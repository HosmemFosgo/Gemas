{
  "nbformat": 4,
  "nbformat_minor": 0,
  "metadata": {
    "colab": {
      "provenance": [],
      "authorship_tag": "ABX9TyMd7dXJPkCpt8htiYCOidjp",
      "include_colab_link": true
    },
    "kernelspec": {
      "name": "python3",
      "display_name": "Python 3"
    },
    "language_info": {
      "name": "python"
    }
  },
  "cells": [
    {
      "cell_type": "markdown",
      "metadata": {
        "id": "view-in-github",
        "colab_type": "text"
      },
      "source": [
        "<a href=\"https://colab.research.google.com/github/HosmemFosgo/Gemas/blob/main/Untitled1.ipynb\" target=\"_parent\"><img src=\"https://colab.research.google.com/assets/colab-badge.svg\" alt=\"Open In Colab\"/></a>"
      ]
    },
    {
      "cell_type": "code",
      "execution_count": 5,
      "metadata": {
        "colab": {
          "base_uri": "https://localhost:8080/"
        },
        "id": "tKX9gqX2_z4D",
        "outputId": "35e3e899-f167-4e6c-cf0f-f31ef4c464e1"
      },
      "outputs": [
        {
          "output_type": "stream",
          "name": "stdout",
          "text": [
            "2023\n"
          ]
        }
      ],
      "source": [
        "ano = 2023\n",
        "print(ano)\n",
        "\n",
        "\n",
        "\n"
      ]
    },
    {
      "cell_type": "code",
      "source": [
        "print(\"meu nome aqui\")"
      ],
      "metadata": {
        "colab": {
          "base_uri": "https://localhost:8080/"
        },
        "id": "5Mqm3Gg1CfSX",
        "outputId": "e91aa4e2-005e-492d-e6d2-c260852eacd4"
      },
      "execution_count": 8,
      "outputs": [
        {
          "output_type": "stream",
          "name": "stdout",
          "text": [
            "meu nome aqui\n"
          ]
        }
      ]
    },
    {
      "cell_type": "code",
      "source": [
        "fruta = \"banana\"\n",
        "#print retorna o resultado na tela\n",
        "print(fruta)\n",
        " "
      ],
      "metadata": {
        "colab": {
          "base_uri": "https://localhost:8080/"
        },
        "id": "N6wvbiFGCuiE",
        "outputId": "9d82c822-32c9-441a-d32f-7b4592c73cb9"
      },
      "execution_count": 24,
      "outputs": [
        {
          "output_type": "stream",
          "name": "stdout",
          "text": [
            "banana\n"
          ]
        }
      ]
    },
    {
      "cell_type": "code",
      "source": [
        "#criando uma lista\n",
        "Frutas = [\"jaca\", \"banana\", \"uva\", \"manga\", \"goiaba\", \"morango\"]"
      ],
      "metadata": {
        "id": "MNE2vOauEkhO"
      },
      "execution_count": 26,
      "outputs": []
    },
    {
      "cell_type": "code",
      "source": [
        "#definindo a lista fruta a letra (i)\n",
        "for i in Frutas:\n",
        "  #usando a letra (i) que esta associada a letra (i) e montrando a lista \n",
        "  print(i) \n",
        "\n"
      ],
      "metadata": {
        "colab": {
          "base_uri": "https://localhost:8080/"
        },
        "id": "Zfm07kuPE30F",
        "outputId": "a4666703-d661-41d3-f839-fb6118275b46"
      },
      "execution_count": 35,
      "outputs": [
        {
          "output_type": "stream",
          "name": "stdout",
          "text": [
            "jaca\n",
            "banana\n",
            "uva\n",
            "manga\n",
            "goiaba\n",
            "morango\n"
          ]
        }
      ]
    },
    {
      "cell_type": "code",
      "source": [
        "for i in Frutas:\n",
        "  #Os 2 sinais de ==  são pra definir a palavra que esta dentro da lista a letra (i) e assim montra apenas a palavra variavel na tela\n",
        "  if(i == 'morango'):\n",
        "    print(i)"
      ],
      "metadata": {
        "colab": {
          "base_uri": "https://localhost:8080/"
        },
        "id": "FD3Q9gwFGAbG",
        "outputId": "85c5b95a-346c-44d8-b9fe-11a0c7f66927"
      },
      "execution_count": 34,
      "outputs": [
        {
          "output_type": "stream",
          "name": "stdout",
          "text": [
            "morango\n"
          ]
        }
      ]
    },
    {
      "cell_type": "code",
      "source": [
        "Fruta = input(\"insira uma fruta: \")\n",
        "#inserir valores em listas...\n",
        "Frutas.append(fruta)\n",
        "Fruta"
      ],
      "metadata": {
        "colab": {
          "base_uri": "https://localhost:8080/",
          "height": 53
        },
        "id": "gCUkad-dHxtA",
        "outputId": "baa33e1a-a94c-47fd-e811-fb9027bf19d2"
      },
      "execution_count": 36,
      "outputs": [
        {
          "name": "stdout",
          "output_type": "stream",
          "text": [
            "insira uma fruta: Uva\n"
          ]
        },
        {
          "output_type": "execute_result",
          "data": {
            "text/plain": [
              "'Uva'"
            ],
            "application/vnd.google.colaboratory.intrinsic+json": {
              "type": "string"
            }
          },
          "metadata": {},
          "execution_count": 36
        }
      ]
    },
    {
      "cell_type": "code",
      "source": [
        "Notas = [1,2,3,4,5 ,6,7,8,9,0,10]\n"
      ],
      "metadata": {
        "id": "-t7iH3mhIT7f"
      },
      "execution_count": 67,
      "outputs": []
    },
    {
      "cell_type": "code",
      "source": [
        "for nota in Notas:\n",
        " if(nota >= 7):\n",
        "  print(nota)"
      ],
      "metadata": {
        "colab": {
          "base_uri": "https://localhost:8080/"
        },
        "id": "vNRDDV3cJJK0",
        "outputId": "bce11033-5a60-45ce-c642-6977a398eb21"
      },
      "execution_count": 68,
      "outputs": [
        {
          "output_type": "stream",
          "name": "stdout",
          "text": [
            "7\n",
            "8\n",
            "9\n",
            "10\n"
          ]
        }
      ]
    },
    {
      "cell_type": "code",
      "source": [
        "#exibir a quantidade de aprovados e reprovados\n",
        "Aprovados = 0 \n",
        "Reprovados = 0 \n",
        "for nota in Notas:\n",
        "  if(nota >= 7):\n",
        "    Aprovados +=1\n",
        "  else:\n",
        "      Reprovados += 1\n",
        "\n",
        "print(Aprovados, \"Aprovados\")\n",
        "print(Reprovados, \"Reprovados\")"
      ],
      "metadata": {
        "id": "BVRVGeLELVzp",
        "outputId": "d553da76-3940-44ee-d8a6-6b27f8503f9d",
        "colab": {
          "base_uri": "https://localhost:8080/"
        }
      },
      "execution_count": 71,
      "outputs": [
        {
          "output_type": "stream",
          "name": "stdout",
          "text": [
            "4 Aprovados\n",
            "7 Reprovados\n"
          ]
        }
      ]
    },
    {
      "cell_type": "code",
      "source": [
        "#cria um programa q liste os numero de 1 a 10\n",
        "#para isso, Precisamos de um contador\n",
        "cont = 0 \n",
        "numeros = []\n",
        "#while = (enquanto)\n",
        "while (cont <=10):\n",
        "  numeros.append(cont)\n",
        "  cont +=1\n",
        "  print(numeros)\n"
      ],
      "metadata": {
        "id": "O-Q3NUxyQNlG",
        "outputId": "e461034c-d0b2-4b53-c30f-c28a723aa452",
        "colab": {
          "base_uri": "https://localhost:8080/"
        }
      },
      "execution_count": 78,
      "outputs": [
        {
          "output_type": "stream",
          "name": "stdout",
          "text": [
            "[0]\n",
            "[0, 1]\n",
            "[0, 1, 2]\n",
            "[0, 1, 2, 3]\n",
            "[0, 1, 2, 3, 4]\n",
            "[0, 1, 2, 3, 4, 5]\n",
            "[0, 1, 2, 3, 4, 5, 6]\n",
            "[0, 1, 2, 3, 4, 5, 6, 7]\n",
            "[0, 1, 2, 3, 4, 5, 6, 7, 8]\n",
            "[0, 1, 2, 3, 4, 5, 6, 7, 8, 9]\n",
            "[0, 1, 2, 3, 4, 5, 6, 7, 8, 9, 10]\n"
          ]
        }
      ]
    },
    {
      "cell_type": "code",
      "source": [
        "#modifique o codigo anterior, para solicitar um tamanho de lista\n",
        "#X e com o lado while, crie e nova lista, do tamanho desejado\n",
        "cont = 0 \n",
        "numero = [] \n",
        "numeros = int(input(\"insira o valor desejado\"))\n",
        "while (cont <= numeros):\n",
        " numero.append(cont)\n",
        " cont += 1\n",
        " print(numero)\n",
        "\n"
      ],
      "metadata": {
        "id": "XRVLHZeaSP5w",
        "outputId": "de2fada3-32a9-4d8c-9552-e967d6f2d0a4",
        "colab": {
          "base_uri": "https://localhost:8080/"
        }
      },
      "execution_count": 91,
      "outputs": [
        {
          "output_type": "stream",
          "name": "stdout",
          "text": [
            "insira o valor desejado11\n",
            "[0]\n",
            "[0, 1]\n",
            "[0, 1, 2]\n",
            "[0, 1, 2, 3]\n",
            "[0, 1, 2, 3, 4]\n",
            "[0, 1, 2, 3, 4, 5]\n",
            "[0, 1, 2, 3, 4, 5, 6]\n",
            "[0, 1, 2, 3, 4, 5, 6, 7]\n",
            "[0, 1, 2, 3, 4, 5, 6, 7, 8]\n",
            "[0, 1, 2, 3, 4, 5, 6, 7, 8, 9]\n",
            "[0, 1, 2, 3, 4, 5, 6, 7, 8, 9, 10]\n",
            "[0, 1, 2, 3, 4, 5, 6, 7, 8, 9, 10, 11]\n"
          ]
        }
      ]
    },
    {
      "cell_type": "code",
      "source": [
        "#inserir nomes de Cidades.\n",
        "#O laço encerra, Quando digitar 0.\n",
        "cidades = []\n",
        "cid = input('digite a cidade: ')\n",
        "\n",
        "while (cid != \"0\"):\n",
        " cidades.append(cid)\n",
        " cid = input(\"digite  uma cidade:\")\n"
      ],
      "metadata": {
        "id": "fpNA97_9UwVW",
        "outputId": "a9c42329-dffc-43ae-9f97-ab662ebe8de5",
        "colab": {
          "base_uri": "https://localhost:8080/"
        }
      },
      "execution_count": 98,
      "outputs": [
        {
          "name": "stdout",
          "output_type": "stream",
          "text": [
            "digite a cidade: jao\n",
            "digite  uma cidadeLitoral\n",
            "digite  uma cidadecoat\n",
            "digite  uma cidadecocl\n",
            "digite  uma cidadegerck\n",
            "digite  uma cidadegerc\n",
            "digite  uma cidadecaes\n",
            "digite  uma cidade0\n"
          ]
        }
      ]
    },
    {
      "cell_type": "code",
      "source": [
        "#par e Impar\n",
        "num = int(input(\"Digite um numero\"))\n",
        "\n",
        "while(num >= 0):\n",
        "   if(num % 2 ==0):\n",
        " #if \"se\"\n",
        "     print(\"é par\")\n",
        "     num = int(input(\"digite\"))\n",
        "\n",
        "    \n",
        "   else:\n",
        "     #else \"se não\"\n",
        "     print(\"é Impar\")\n",
        "     num = int(input(\"digite\"))\n",
        "\n"
      ],
      "metadata": {
        "id": "U8KCGbuoYDNk",
        "outputId": "e48062ac-3495-4f73-a302-9416a3534650",
        "colab": {
          "base_uri": "https://localhost:8080/"
        }
      },
      "execution_count": 115,
      "outputs": [
        {
          "name": "stdout",
          "output_type": "stream",
          "text": [
            "Digite um numero-2\n"
          ]
        }
      ]
    }
  ]
}